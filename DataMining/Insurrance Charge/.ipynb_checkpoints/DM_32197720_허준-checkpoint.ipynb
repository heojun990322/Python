{
 "cells": [
  {
   "cell_type": "markdown",
   "id": "310da297",
   "metadata": {},
   "source": [
    "# 보험료 예측"
   ]
  },
  {
   "cell_type": "markdown",
   "id": "b0dac19a",
   "metadata": {},
   "source": [
    "### 1. 데이터 전처리"
   ]
  },
  {
   "cell_type": "code",
   "execution_count": 249,
   "id": "98bfb8f2",
   "metadata": {},
   "outputs": [],
   "source": [
    "import pandas as pd\n",
    "import numpy as np\n",
    "import matplotlib.pyplot as plt\n",
    "\n",
    "# 파일의 데이터를 전처리한 데이터프레임 리턴\n",
    "def CreateDataFrame(filename):\n",
    "    ''' 1. 데이터 프레임 생성 '''\n",
    "    df = pd.read_csv(filename)\n",
    "    \n",
    "    ''' 2. 문자열 수치화 '''\n",
    "    # male=0, female=1\n",
    "    df = df.dropna(subset = ['sex'])\n",
    "    df['sex'].replace(['male', 'female'], range(2), inplace=True)\n",
    "    df['sex'] = df['sex'].astype('int')\n",
    "    # smoker=1, non-smoker=0\n",
    "    df['smoker'].replace(['no', 'yes'], range(2), inplace=True)\n",
    "    # southwest=0, southeast=1, northwest=2, northeast=3\n",
    "    df['region'].replace(['southwest', 'southeast', 'northwest', 'northeast'], range(4), inplace=True)\n",
    "    \n",
    "    ''' 3. 결측치 처리 '''\n",
    "    # bmi\n",
    "    bmi_mean = df['bmi'].mean()\n",
    "    bmi_mean = round(bmi_mean, 0)\n",
    "    df['bmi'] = df['bmi'].fillna(bmi_mean)\n",
    "    # children\n",
    "    children_mean = df['children'].mean()\n",
    "    children_mean = round(children_mean, 0)\n",
    "    df['children'] = df['children'].fillna(children_mean)\n",
    "    df['children'] = df['children'].astype('int')\n",
    "    \n",
    "    return df\n",
    "\n",
    "df_train = CreateDataFrame(\"insurrance_train.csv\") # 학습 데이터\n",
    "df_test = CreateDataFrame(\"insurrance_test_label.csv\") # 테스트 데이터"
   ]
  },
  {
   "cell_type": "markdown",
   "id": "69c5f27a",
   "metadata": {},
   "source": [
    "### 2. 스케일링"
   ]
  },
  {
   "cell_type": "code",
   "execution_count": 250,
   "id": "447acc5b",
   "metadata": {},
   "outputs": [],
   "source": [
    "from sklearn.model_selection import train_test_split\n",
    "\n",
    "# train data의 독립 변수와 종속 변수\n",
    "X_train = df_train[['age', 'sex', 'bmi', 'children', 'smoker', 'region']].values\n",
    "Y_train = df_train[['charges']].values\n",
    "# valid data의 독립 변수와 종속 변수\n",
    "X_train, X_val, Y_train, Y_val = train_test_split(X_train, Y_train, test_size=0.25, random_state=42)\n",
    "# 테스트 데이터의 독립 변수와 종속 변수\n",
    "X_test = df_test[['age', 'sex', 'bmi', 'children', 'smoker', 'region']].values\n",
    "Y_test = df_test[['charges']].values"
   ]
  },
  {
   "cell_type": "code",
   "execution_count": 251,
   "id": "945ebb37",
   "metadata": {},
   "outputs": [],
   "source": [
    "from sklearn.preprocessing import RobustScaler\n",
    "\n",
    "# RobustScaler로 스케일링\n",
    "scaler = RobustScaler()\n",
    "X_train = scaler.fit_transform(X_train)\n",
    "X_val = scaler.transform(X_val)\n",
    "X_test = scaler.transform(X_test)"
   ]
  },
  {
   "cell_type": "markdown",
   "id": "5da5ebc9",
   "metadata": {},
   "source": [
    "### 3. 데이터 학습"
   ]
  },
  {
   "cell_type": "code",
   "execution_count": 252,
   "id": "a2322b67",
   "metadata": {},
   "outputs": [],
   "source": [
    "from sklearn.neighbors import KNeighborsRegressor\n",
    "from sklearn.ensemble import GradientBoostingRegressor\n",
    "from sklearn.ensemble import RandomForestRegressor\n",
    "from xgboost.sklearn import XGBRegressor\n",
    "from lightgbm.sklearn import LGBMRegressor"
   ]
  },
  {
   "cell_type": "code",
   "execution_count": 253,
   "id": "6355eb52",
   "metadata": {},
   "outputs": [],
   "source": [
    "# 모델별 객체 생성\n",
    "knn = KNeighborsRegressor(n_neighbors = 3)\n",
    "gbm = GradientBoostingRegressor()\n",
    "rf = RandomForestRegressor()\n",
    "xgb = XGBRegressor()\n",
    "lgbm = LGBMRegressor()"
   ]
  },
  {
   "cell_type": "code",
   "execution_count": 254,
   "id": "253a32ab",
   "metadata": {},
   "outputs": [
    {
     "name": "stderr",
     "output_type": "stream",
     "text": [
      "C:\\Users\\herju\\anaconda3\\lib\\site-packages\\sklearn\\utils\\validation.py:63: DataConversionWarning: A column-vector y was passed when a 1d array was expected. Please change the shape of y to (n_samples, ), for example using ravel().\n",
      "  return f(*args, **kwargs)\n",
      "C:\\Users\\herju\\AppData\\Local\\Temp/ipykernel_12432/4149347531.py:4: DataConversionWarning: A column-vector y was passed when a 1d array was expected. Please change the shape of y to (n_samples,), for example using ravel().\n",
      "  rf.fit(X_train, Y_train)\n",
      "C:\\Users\\herju\\anaconda3\\lib\\site-packages\\sklearn\\utils\\validation.py:63: DataConversionWarning: A column-vector y was passed when a 1d array was expected. Please change the shape of y to (n_samples, ), for example using ravel().\n",
      "  return f(*args, **kwargs)\n"
     ]
    },
    {
     "data": {
      "text/plain": [
       "LGBMRegressor()"
      ]
     },
     "execution_count": 254,
     "metadata": {},
     "output_type": "execute_result"
    }
   ],
   "source": [
    "# 모델 학습\n",
    "knn.fit(X_train, Y_train)\n",
    "gbm.fit(X_train, Y_train)\n",
    "rf.fit(X_train, Y_train)\n",
    "xgb.fit(X_train, Y_train)\n",
    "lgbm.fit(X_train, Y_train)"
   ]
  },
  {
   "cell_type": "code",
   "execution_count": 255,
   "id": "d089f4bf",
   "metadata": {},
   "outputs": [],
   "source": [
    "# train 데이터의 종속 변수로 모델별 charhes 값 예측\n",
    "pred_train_knn = knn.predict(X_train)\n",
    "pred_train_gbm = gbm.predict(X_train)\n",
    "pred_train_rf = rf.predict(X_train)\n",
    "pred_train_xgb = xgb.predict(X_train)\n",
    "pred_train_lgbm = lgbm.predict(X_train)"
   ]
  },
  {
   "cell_type": "code",
   "execution_count": 256,
   "id": "b088ac6c",
   "metadata": {},
   "outputs": [],
   "source": [
    "# val 데이터의 종속 변수로 모델별 charhes 값 예측\n",
    "pred_val_knn = knn.predict(X_val)\n",
    "pred_val_gbm = gbm.predict(X_val)\n",
    "pred_val_rf = rf.predict(X_val)\n",
    "pred_val_xgb = xgb.predict(X_val)\n",
    "pred_val_lgbm = lgbm.predict(X_val)"
   ]
  },
  {
   "cell_type": "code",
   "execution_count": 263,
   "id": "b7ba9fc6",
   "metadata": {},
   "outputs": [
    {
     "name": "stdout",
     "output_type": "stream",
     "text": [
      "1. KNN \t\t\t train=3687.1949, val=5816.3714\n",
      "2. GBM \t\t\t train=3404.2971, val=5465.0484\n",
      "3. RF \t\t\t train=1807.6671, val=5494.3439\n",
      "4. XGB \t\t\t train=545.6366, val=5868.2668\n",
      "5. LGBM \t\t train=2713.7369, val=5323.7203\n"
     ]
    }
   ],
   "source": [
    "from sklearn.metrics import mean_squared_error\n",
    "\n",
    "mse_train_knn = mean_squared_error(Y_train, pred_train_knn)\n",
    "mse_val_knn = mean_squared_error(Y_val, pred_val_knn)\n",
    "mse_train_gbm = mean_squared_error(Y_train, pred_train_gbm)\n",
    "mse_val_gbm = mean_squared_error(Y_val, pred_val_gbm)\n",
    "mse_train_rf = mean_squared_error(Y_train, pred_train_rf)\n",
    "mse_val_rf = mean_squared_error(Y_val, pred_val_rf)\n",
    "mse_train_xgb = mean_squared_error(Y_train, pred_train_xgb)\n",
    "mse_val_xgb = mean_squared_error(Y_val, pred_val_xgb)\n",
    "mse_train_lgbm = mean_squared_error(Y_train, pred_train_lgbm)\n",
    "mse_val_lgbm = mean_squared_error(Y_val, pred_val_lgbm)\n",
    "\n",
    "print(\"1. KNN \\t\\t\\t train=%.4f, val=%.4f\" % (np.sqrt(mse_train_knn), np.sqrt(mse_val_knn)))\n",
    "print(\"2. GBM \\t\\t\\t train=%.4f, val=%.4f\" % (np.sqrt(mse_train_gbm), np.sqrt(mse_val_gbm)))\n",
    "print(\"3. RF \\t\\t\\t train=%.4f, val=%.4f\" % (np.sqrt(mse_train_rf), np.sqrt(mse_val_rf)))\n",
    "print(\"4. XGB \\t\\t\\t train=%.4f, val=%.4f\" % (np.sqrt(mse_train_xgb), np.sqrt(mse_val_xgb)))\n",
    "print(\"5. LGBM \\t\\t train=%.4f, val=%.4f\" % (np.sqrt(mse_train_lgbm), np.sqrt(mse_val_lgbm)))"
   ]
  },
  {
   "cell_type": "markdown",
   "id": "32fd4d9a",
   "metadata": {},
   "source": [
    "### 4. 튜닝"
   ]
  },
  {
   "cell_type": "code",
   "execution_count": 174,
   "id": "c7babc31",
   "metadata": {},
   "outputs": [
    {
     "name": "stdout",
     "output_type": "stream",
     "text": [
      "Fitting 5 folds for each of 16 candidates, totalling 80 fits\n",
      "[CV] END ....................n_neighbors=1, weights=distance; total time=   0.0s\n",
      "[CV] END ....................n_neighbors=1, weights=distance; total time=   0.0s\n",
      "[CV] END ....................n_neighbors=1, weights=distance; total time=   0.0s\n",
      "[CV] END ....................n_neighbors=1, weights=distance; total time=   0.0s\n",
      "[CV] END ....................n_neighbors=1, weights=distance; total time=   0.0s\n",
      "[CV] END .....................n_neighbors=1, weights=uniform; total time=   0.0s\n",
      "[CV] END .....................n_neighbors=1, weights=uniform; total time=   0.0s\n",
      "[CV] END .....................n_neighbors=1, weights=uniform; total time=   0.0s\n",
      "[CV] END .....................n_neighbors=1, weights=uniform; total time=   0.0s\n",
      "[CV] END .....................n_neighbors=1, weights=uniform; total time=   0.0s\n",
      "[CV] END ....................n_neighbors=3, weights=distance; total time=   0.0s\n",
      "[CV] END ....................n_neighbors=3, weights=distance; total time=   0.0s\n",
      "[CV] END ....................n_neighbors=3, weights=distance; total time=   0.0s\n",
      "[CV] END ....................n_neighbors=3, weights=distance; total time=   0.0s\n",
      "[CV] END ....................n_neighbors=3, weights=distance; total time=   0.0s\n",
      "[CV] END .....................n_neighbors=3, weights=uniform; total time=   0.0s\n",
      "[CV] END .....................n_neighbors=3, weights=uniform; total time=   0.0s\n",
      "[CV] END .....................n_neighbors=3, weights=uniform; total time=   0.0s\n",
      "[CV] END .....................n_neighbors=3, weights=uniform; total time=   0.0s\n",
      "[CV] END .....................n_neighbors=3, weights=uniform; total time=   0.0s\n",
      "[CV] END ....................n_neighbors=5, weights=distance; total time=   0.0s\n",
      "[CV] END ....................n_neighbors=5, weights=distance; total time=   0.0s\n",
      "[CV] END ....................n_neighbors=5, weights=distance; total time=   0.0s\n",
      "[CV] END ....................n_neighbors=5, weights=distance; total time=   0.0s\n",
      "[CV] END ....................n_neighbors=5, weights=distance; total time=   0.0s\n",
      "[CV] END .....................n_neighbors=5, weights=uniform; total time=   0.0s\n",
      "[CV] END .....................n_neighbors=5, weights=uniform; total time=   0.0s\n",
      "[CV] END .....................n_neighbors=5, weights=uniform; total time=   0.0s\n",
      "[CV] END .....................n_neighbors=5, weights=uniform; total time=   0.0s\n",
      "[CV] END .....................n_neighbors=5, weights=uniform; total time=   0.0s\n",
      "[CV] END ....................n_neighbors=7, weights=distance; total time=   0.0s\n",
      "[CV] END ....................n_neighbors=7, weights=distance; total time=   0.0s\n",
      "[CV] END ....................n_neighbors=7, weights=distance; total time=   0.0s\n",
      "[CV] END ....................n_neighbors=7, weights=distance; total time=   0.0s\n",
      "[CV] END ....................n_neighbors=7, weights=distance; total time=   0.0s\n",
      "[CV] END .....................n_neighbors=7, weights=uniform; total time=   0.0s\n",
      "[CV] END .....................n_neighbors=7, weights=uniform; total time=   0.0s\n",
      "[CV] END .....................n_neighbors=7, weights=uniform; total time=   0.0s\n",
      "[CV] END .....................n_neighbors=7, weights=uniform; total time=   0.0s\n",
      "[CV] END .....................n_neighbors=7, weights=uniform; total time=   0.0s\n",
      "[CV] END ....................n_neighbors=9, weights=distance; total time=   0.0s\n",
      "[CV] END ....................n_neighbors=9, weights=distance; total time=   0.0s\n",
      "[CV] END ....................n_neighbors=9, weights=distance; total time=   0.0s\n",
      "[CV] END ....................n_neighbors=9, weights=distance; total time=   0.0s\n",
      "[CV] END ....................n_neighbors=9, weights=distance; total time=   0.0s\n",
      "[CV] END .....................n_neighbors=9, weights=uniform; total time=   0.0s\n",
      "[CV] END .....................n_neighbors=9, weights=uniform; total time=   0.0s\n",
      "[CV] END .....................n_neighbors=9, weights=uniform; total time=   0.0s\n",
      "[CV] END .....................n_neighbors=9, weights=uniform; total time=   0.0s\n",
      "[CV] END .....................n_neighbors=9, weights=uniform; total time=   0.0s\n",
      "[CV] END ...................n_neighbors=11, weights=distance; total time=   0.0s\n",
      "[CV] END ...................n_neighbors=11, weights=distance; total time=   0.0s\n",
      "[CV] END ...................n_neighbors=11, weights=distance; total time=   0.0s\n",
      "[CV] END ...................n_neighbors=11, weights=distance; total time=   0.0s\n",
      "[CV] END ...................n_neighbors=11, weights=distance; total time=   0.0s\n",
      "[CV] END ....................n_neighbors=11, weights=uniform; total time=   0.0s\n",
      "[CV] END ....................n_neighbors=11, weights=uniform; total time=   0.0s\n",
      "[CV] END ....................n_neighbors=11, weights=uniform; total time=   0.0s\n",
      "[CV] END ....................n_neighbors=11, weights=uniform; total time=   0.0s\n",
      "[CV] END ....................n_neighbors=11, weights=uniform; total time=   0.0s\n",
      "[CV] END ...................n_neighbors=13, weights=distance; total time=   0.0s\n",
      "[CV] END ...................n_neighbors=13, weights=distance; total time=   0.0s\n",
      "[CV] END ...................n_neighbors=13, weights=distance; total time=   0.2s\n",
      "[CV] END ...................n_neighbors=13, weights=distance; total time=   0.0s\n",
      "[CV] END ...................n_neighbors=13, weights=distance; total time=   0.0s\n",
      "[CV] END ....................n_neighbors=13, weights=uniform; total time=   0.0s\n",
      "[CV] END ....................n_neighbors=13, weights=uniform; total time=   0.0s\n",
      "[CV] END ....................n_neighbors=13, weights=uniform; total time=   0.0s\n",
      "[CV] END ....................n_neighbors=13, weights=uniform; total time=   0.0s\n",
      "[CV] END ....................n_neighbors=13, weights=uniform; total time=   0.0s\n",
      "[CV] END ...................n_neighbors=15, weights=distance; total time=   0.0s\n",
      "[CV] END ...................n_neighbors=15, weights=distance; total time=   0.0s\n",
      "[CV] END ...................n_neighbors=15, weights=distance; total time=   0.0s\n",
      "[CV] END ...................n_neighbors=15, weights=distance; total time=   0.0s\n",
      "[CV] END ...................n_neighbors=15, weights=distance; total time=   0.0s\n",
      "[CV] END ....................n_neighbors=15, weights=uniform; total time=   0.0s\n",
      "[CV] END ....................n_neighbors=15, weights=uniform; total time=   0.0s\n",
      "[CV] END ....................n_neighbors=15, weights=uniform; total time=   0.0s\n",
      "[CV] END ....................n_neighbors=15, weights=uniform; total time=   0.0s\n",
      "[CV] END ....................n_neighbors=15, weights=uniform; total time=   0.0s\n",
      "{'n_neighbors': 7, 'weights': 'distance'}\n"
     ]
    }
   ],
   "source": [
    "from sklearn.model_selection import GridSearchCV\n",
    "\n",
    "# KNN parms\n",
    "param_grid = {\n",
    "    \"n_neighbors\" : [1, 3, 5, 7, 9, 11, 13, 15],\n",
    "    \"weights\" : ['distance', 'uniform']\n",
    "}\n",
    "\n",
    "gcv = GridSearchCV(knn, param_grid, scoring=\"neg_mean_squared_error\", verbose=2)\n",
    "gcv.fit(X_train, Y_train)\n",
    "print(gcv.best_params_)"
   ]
  },
  {
   "cell_type": "code",
   "execution_count": 262,
   "id": "ce063e3c",
   "metadata": {},
   "outputs": [
    {
     "name": "stdout",
     "output_type": "stream",
     "text": [
      "Fitting 5 folds for each of 12 candidates, totalling 60 fits\n",
      "[CV] END ......................max_depth=3, n_estimators=100; total time=   0.0s\n",
      "[CV] END ......................max_depth=3, n_estimators=100; total time=   0.0s\n",
      "[CV] END ......................max_depth=3, n_estimators=100; total time=   0.0s\n"
     ]
    },
    {
     "name": "stderr",
     "output_type": "stream",
     "text": [
      "C:\\Users\\herju\\anaconda3\\lib\\site-packages\\sklearn\\utils\\validation.py:63: DataConversionWarning: A column-vector y was passed when a 1d array was expected. Please change the shape of y to (n_samples, ), for example using ravel().\n",
      "  return f(*args, **kwargs)\n",
      "C:\\Users\\herju\\anaconda3\\lib\\site-packages\\sklearn\\utils\\validation.py:63: DataConversionWarning: A column-vector y was passed when a 1d array was expected. Please change the shape of y to (n_samples, ), for example using ravel().\n",
      "  return f(*args, **kwargs)\n",
      "C:\\Users\\herju\\anaconda3\\lib\\site-packages\\sklearn\\utils\\validation.py:63: DataConversionWarning: A column-vector y was passed when a 1d array was expected. Please change the shape of y to (n_samples, ), for example using ravel().\n",
      "  return f(*args, **kwargs)\n",
      "C:\\Users\\herju\\anaconda3\\lib\\site-packages\\sklearn\\utils\\validation.py:63: DataConversionWarning: A column-vector y was passed when a 1d array was expected. Please change the shape of y to (n_samples, ), for example using ravel().\n",
      "  return f(*args, **kwargs)\n"
     ]
    },
    {
     "name": "stdout",
     "output_type": "stream",
     "text": [
      "[CV] END ......................max_depth=3, n_estimators=100; total time=   0.0s\n",
      "[CV] END ......................max_depth=3, n_estimators=100; total time=   0.0s\n",
      "[CV] END ......................max_depth=3, n_estimators=200; total time=   0.0s\n"
     ]
    },
    {
     "name": "stderr",
     "output_type": "stream",
     "text": [
      "C:\\Users\\herju\\anaconda3\\lib\\site-packages\\sklearn\\utils\\validation.py:63: DataConversionWarning: A column-vector y was passed when a 1d array was expected. Please change the shape of y to (n_samples, ), for example using ravel().\n",
      "  return f(*args, **kwargs)\n",
      "C:\\Users\\herju\\anaconda3\\lib\\site-packages\\sklearn\\utils\\validation.py:63: DataConversionWarning: A column-vector y was passed when a 1d array was expected. Please change the shape of y to (n_samples, ), for example using ravel().\n",
      "  return f(*args, **kwargs)\n",
      "C:\\Users\\herju\\anaconda3\\lib\\site-packages\\sklearn\\utils\\validation.py:63: DataConversionWarning: A column-vector y was passed when a 1d array was expected. Please change the shape of y to (n_samples, ), for example using ravel().\n",
      "  return f(*args, **kwargs)\n",
      "C:\\Users\\herju\\anaconda3\\lib\\site-packages\\sklearn\\utils\\validation.py:63: DataConversionWarning: A column-vector y was passed when a 1d array was expected. Please change the shape of y to (n_samples, ), for example using ravel().\n",
      "  return f(*args, **kwargs)\n"
     ]
    },
    {
     "name": "stdout",
     "output_type": "stream",
     "text": [
      "[CV] END ......................max_depth=3, n_estimators=200; total time=   0.0s\n",
      "[CV] END ......................max_depth=3, n_estimators=200; total time=   0.0s\n"
     ]
    },
    {
     "name": "stderr",
     "output_type": "stream",
     "text": [
      "C:\\Users\\herju\\anaconda3\\lib\\site-packages\\sklearn\\utils\\validation.py:63: DataConversionWarning: A column-vector y was passed when a 1d array was expected. Please change the shape of y to (n_samples, ), for example using ravel().\n",
      "  return f(*args, **kwargs)\n",
      "C:\\Users\\herju\\anaconda3\\lib\\site-packages\\sklearn\\utils\\validation.py:63: DataConversionWarning: A column-vector y was passed when a 1d array was expected. Please change the shape of y to (n_samples, ), for example using ravel().\n",
      "  return f(*args, **kwargs)\n"
     ]
    },
    {
     "name": "stdout",
     "output_type": "stream",
     "text": [
      "[CV] END ......................max_depth=3, n_estimators=200; total time=   0.0s\n",
      "[CV] END ......................max_depth=3, n_estimators=200; total time=   0.1s\n"
     ]
    },
    {
     "name": "stderr",
     "output_type": "stream",
     "text": [
      "C:\\Users\\herju\\anaconda3\\lib\\site-packages\\sklearn\\utils\\validation.py:63: DataConversionWarning: A column-vector y was passed when a 1d array was expected. Please change the shape of y to (n_samples, ), for example using ravel().\n",
      "  return f(*args, **kwargs)\n"
     ]
    },
    {
     "name": "stdout",
     "output_type": "stream",
     "text": [
      "[CV] END ......................max_depth=3, n_estimators=300; total time=   0.2s\n"
     ]
    },
    {
     "name": "stderr",
     "output_type": "stream",
     "text": [
      "C:\\Users\\herju\\anaconda3\\lib\\site-packages\\sklearn\\utils\\validation.py:63: DataConversionWarning: A column-vector y was passed when a 1d array was expected. Please change the shape of y to (n_samples, ), for example using ravel().\n",
      "  return f(*args, **kwargs)\n"
     ]
    },
    {
     "name": "stdout",
     "output_type": "stream",
     "text": [
      "[CV] END ......................max_depth=3, n_estimators=300; total time=   0.1s\n"
     ]
    },
    {
     "name": "stderr",
     "output_type": "stream",
     "text": [
      "C:\\Users\\herju\\anaconda3\\lib\\site-packages\\sklearn\\utils\\validation.py:63: DataConversionWarning: A column-vector y was passed when a 1d array was expected. Please change the shape of y to (n_samples, ), for example using ravel().\n",
      "  return f(*args, **kwargs)\n"
     ]
    },
    {
     "name": "stdout",
     "output_type": "stream",
     "text": [
      "[CV] END ......................max_depth=3, n_estimators=300; total time=   0.2s\n",
      "[CV] END ......................max_depth=3, n_estimators=300; total time=   0.1s\n"
     ]
    },
    {
     "name": "stderr",
     "output_type": "stream",
     "text": [
      "C:\\Users\\herju\\anaconda3\\lib\\site-packages\\sklearn\\utils\\validation.py:63: DataConversionWarning: A column-vector y was passed when a 1d array was expected. Please change the shape of y to (n_samples, ), for example using ravel().\n",
      "  return f(*args, **kwargs)\n",
      "C:\\Users\\herju\\anaconda3\\lib\\site-packages\\sklearn\\utils\\validation.py:63: DataConversionWarning: A column-vector y was passed when a 1d array was expected. Please change the shape of y to (n_samples, ), for example using ravel().\n",
      "  return f(*args, **kwargs)\n"
     ]
    },
    {
     "name": "stdout",
     "output_type": "stream",
     "text": [
      "[CV] END ......................max_depth=3, n_estimators=300; total time=   0.1s\n",
      "[CV] END ......................max_depth=4, n_estimators=100; total time=   0.0s\n",
      "[CV] END ......................max_depth=4, n_estimators=100; total time=   0.0s\n"
     ]
    },
    {
     "name": "stderr",
     "output_type": "stream",
     "text": [
      "C:\\Users\\herju\\anaconda3\\lib\\site-packages\\sklearn\\utils\\validation.py:63: DataConversionWarning: A column-vector y was passed when a 1d array was expected. Please change the shape of y to (n_samples, ), for example using ravel().\n",
      "  return f(*args, **kwargs)\n",
      "C:\\Users\\herju\\anaconda3\\lib\\site-packages\\sklearn\\utils\\validation.py:63: DataConversionWarning: A column-vector y was passed when a 1d array was expected. Please change the shape of y to (n_samples, ), for example using ravel().\n",
      "  return f(*args, **kwargs)\n",
      "C:\\Users\\herju\\anaconda3\\lib\\site-packages\\sklearn\\utils\\validation.py:63: DataConversionWarning: A column-vector y was passed when a 1d array was expected. Please change the shape of y to (n_samples, ), for example using ravel().\n",
      "  return f(*args, **kwargs)\n"
     ]
    },
    {
     "name": "stdout",
     "output_type": "stream",
     "text": [
      "[CV] END ......................max_depth=4, n_estimators=100; total time=   0.0s\n",
      "[CV] END ......................max_depth=4, n_estimators=100; total time=   0.0s\n",
      "[CV] END ......................max_depth=4, n_estimators=100; total time=   0.0s\n"
     ]
    },
    {
     "name": "stderr",
     "output_type": "stream",
     "text": [
      "C:\\Users\\herju\\anaconda3\\lib\\site-packages\\sklearn\\utils\\validation.py:63: DataConversionWarning: A column-vector y was passed when a 1d array was expected. Please change the shape of y to (n_samples, ), for example using ravel().\n",
      "  return f(*args, **kwargs)\n",
      "C:\\Users\\herju\\anaconda3\\lib\\site-packages\\sklearn\\utils\\validation.py:63: DataConversionWarning: A column-vector y was passed when a 1d array was expected. Please change the shape of y to (n_samples, ), for example using ravel().\n",
      "  return f(*args, **kwargs)\n",
      "C:\\Users\\herju\\anaconda3\\lib\\site-packages\\sklearn\\utils\\validation.py:63: DataConversionWarning: A column-vector y was passed when a 1d array was expected. Please change the shape of y to (n_samples, ), for example using ravel().\n",
      "  return f(*args, **kwargs)\n"
     ]
    },
    {
     "name": "stdout",
     "output_type": "stream",
     "text": [
      "[CV] END ......................max_depth=4, n_estimators=200; total time=   0.1s\n",
      "[CV] END ......................max_depth=4, n_estimators=200; total time=   0.1s\n"
     ]
    },
    {
     "name": "stderr",
     "output_type": "stream",
     "text": [
      "C:\\Users\\herju\\anaconda3\\lib\\site-packages\\sklearn\\utils\\validation.py:63: DataConversionWarning: A column-vector y was passed when a 1d array was expected. Please change the shape of y to (n_samples, ), for example using ravel().\n",
      "  return f(*args, **kwargs)\n",
      "C:\\Users\\herju\\anaconda3\\lib\\site-packages\\sklearn\\utils\\validation.py:63: DataConversionWarning: A column-vector y was passed when a 1d array was expected. Please change the shape of y to (n_samples, ), for example using ravel().\n",
      "  return f(*args, **kwargs)\n"
     ]
    },
    {
     "name": "stdout",
     "output_type": "stream",
     "text": [
      "[CV] END ......................max_depth=4, n_estimators=200; total time=   0.1s\n",
      "[CV] END ......................max_depth=4, n_estimators=200; total time=   0.1s\n"
     ]
    },
    {
     "name": "stderr",
     "output_type": "stream",
     "text": [
      "C:\\Users\\herju\\anaconda3\\lib\\site-packages\\sklearn\\utils\\validation.py:63: DataConversionWarning: A column-vector y was passed when a 1d array was expected. Please change the shape of y to (n_samples, ), for example using ravel().\n",
      "  return f(*args, **kwargs)\n",
      "C:\\Users\\herju\\anaconda3\\lib\\site-packages\\sklearn\\utils\\validation.py:63: DataConversionWarning: A column-vector y was passed when a 1d array was expected. Please change the shape of y to (n_samples, ), for example using ravel().\n",
      "  return f(*args, **kwargs)\n"
     ]
    },
    {
     "name": "stdout",
     "output_type": "stream",
     "text": [
      "[CV] END ......................max_depth=4, n_estimators=200; total time=   0.1s\n"
     ]
    },
    {
     "name": "stderr",
     "output_type": "stream",
     "text": [
      "C:\\Users\\herju\\anaconda3\\lib\\site-packages\\sklearn\\utils\\validation.py:63: DataConversionWarning: A column-vector y was passed when a 1d array was expected. Please change the shape of y to (n_samples, ), for example using ravel().\n",
      "  return f(*args, **kwargs)\n"
     ]
    },
    {
     "name": "stdout",
     "output_type": "stream",
     "text": [
      "[CV] END ......................max_depth=4, n_estimators=300; total time=   0.2s\n"
     ]
    },
    {
     "name": "stderr",
     "output_type": "stream",
     "text": [
      "C:\\Users\\herju\\anaconda3\\lib\\site-packages\\sklearn\\utils\\validation.py:63: DataConversionWarning: A column-vector y was passed when a 1d array was expected. Please change the shape of y to (n_samples, ), for example using ravel().\n",
      "  return f(*args, **kwargs)\n"
     ]
    },
    {
     "name": "stdout",
     "output_type": "stream",
     "text": [
      "[CV] END ......................max_depth=4, n_estimators=300; total time=   0.2s\n"
     ]
    },
    {
     "name": "stderr",
     "output_type": "stream",
     "text": [
      "C:\\Users\\herju\\anaconda3\\lib\\site-packages\\sklearn\\utils\\validation.py:63: DataConversionWarning: A column-vector y was passed when a 1d array was expected. Please change the shape of y to (n_samples, ), for example using ravel().\n",
      "  return f(*args, **kwargs)\n"
     ]
    },
    {
     "name": "stdout",
     "output_type": "stream",
     "text": [
      "[CV] END ......................max_depth=4, n_estimators=300; total time=   0.2s\n"
     ]
    },
    {
     "name": "stderr",
     "output_type": "stream",
     "text": [
      "C:\\Users\\herju\\anaconda3\\lib\\site-packages\\sklearn\\utils\\validation.py:63: DataConversionWarning: A column-vector y was passed when a 1d array was expected. Please change the shape of y to (n_samples, ), for example using ravel().\n",
      "  return f(*args, **kwargs)\n"
     ]
    },
    {
     "name": "stdout",
     "output_type": "stream",
     "text": [
      "[CV] END ......................max_depth=4, n_estimators=300; total time=   0.2s\n"
     ]
    },
    {
     "name": "stderr",
     "output_type": "stream",
     "text": [
      "C:\\Users\\herju\\anaconda3\\lib\\site-packages\\sklearn\\utils\\validation.py:63: DataConversionWarning: A column-vector y was passed when a 1d array was expected. Please change the shape of y to (n_samples, ), for example using ravel().\n",
      "  return f(*args, **kwargs)\n"
     ]
    },
    {
     "name": "stdout",
     "output_type": "stream",
     "text": [
      "[CV] END ......................max_depth=4, n_estimators=300; total time=   0.2s\n",
      "[CV] END ......................max_depth=5, n_estimators=100; total time=   0.0s\n"
     ]
    },
    {
     "name": "stderr",
     "output_type": "stream",
     "text": [
      "C:\\Users\\herju\\anaconda3\\lib\\site-packages\\sklearn\\utils\\validation.py:63: DataConversionWarning: A column-vector y was passed when a 1d array was expected. Please change the shape of y to (n_samples, ), for example using ravel().\n",
      "  return f(*args, **kwargs)\n",
      "C:\\Users\\herju\\anaconda3\\lib\\site-packages\\sklearn\\utils\\validation.py:63: DataConversionWarning: A column-vector y was passed when a 1d array was expected. Please change the shape of y to (n_samples, ), for example using ravel().\n",
      "  return f(*args, **kwargs)\n"
     ]
    },
    {
     "name": "stdout",
     "output_type": "stream",
     "text": [
      "[CV] END ......................max_depth=5, n_estimators=100; total time=   0.0s\n",
      "[CV] END ......................max_depth=5, n_estimators=100; total time=   0.0s\n"
     ]
    },
    {
     "name": "stderr",
     "output_type": "stream",
     "text": [
      "C:\\Users\\herju\\anaconda3\\lib\\site-packages\\sklearn\\utils\\validation.py:63: DataConversionWarning: A column-vector y was passed when a 1d array was expected. Please change the shape of y to (n_samples, ), for example using ravel().\n",
      "  return f(*args, **kwargs)\n",
      "C:\\Users\\herju\\anaconda3\\lib\\site-packages\\sklearn\\utils\\validation.py:63: DataConversionWarning: A column-vector y was passed when a 1d array was expected. Please change the shape of y to (n_samples, ), for example using ravel().\n",
      "  return f(*args, **kwargs)\n"
     ]
    },
    {
     "name": "stdout",
     "output_type": "stream",
     "text": [
      "[CV] END ......................max_depth=5, n_estimators=100; total time=   0.0s\n",
      "[CV] END ......................max_depth=5, n_estimators=100; total time=   0.0s\n"
     ]
    },
    {
     "name": "stderr",
     "output_type": "stream",
     "text": [
      "C:\\Users\\herju\\anaconda3\\lib\\site-packages\\sklearn\\utils\\validation.py:63: DataConversionWarning: A column-vector y was passed when a 1d array was expected. Please change the shape of y to (n_samples, ), for example using ravel().\n",
      "  return f(*args, **kwargs)\n",
      "C:\\Users\\herju\\anaconda3\\lib\\site-packages\\sklearn\\utils\\validation.py:63: DataConversionWarning: A column-vector y was passed when a 1d array was expected. Please change the shape of y to (n_samples, ), for example using ravel().\n",
      "  return f(*args, **kwargs)\n"
     ]
    },
    {
     "name": "stdout",
     "output_type": "stream",
     "text": [
      "[CV] END ......................max_depth=5, n_estimators=200; total time=   0.1s\n",
      "[CV] END ......................max_depth=5, n_estimators=200; total time=   0.1s\n"
     ]
    },
    {
     "name": "stderr",
     "output_type": "stream",
     "text": [
      "C:\\Users\\herju\\anaconda3\\lib\\site-packages\\sklearn\\utils\\validation.py:63: DataConversionWarning: A column-vector y was passed when a 1d array was expected. Please change the shape of y to (n_samples, ), for example using ravel().\n",
      "  return f(*args, **kwargs)\n",
      "C:\\Users\\herju\\anaconda3\\lib\\site-packages\\sklearn\\utils\\validation.py:63: DataConversionWarning: A column-vector y was passed when a 1d array was expected. Please change the shape of y to (n_samples, ), for example using ravel().\n",
      "  return f(*args, **kwargs)\n"
     ]
    },
    {
     "name": "stdout",
     "output_type": "stream",
     "text": [
      "[CV] END ......................max_depth=5, n_estimators=200; total time=   0.1s\n"
     ]
    },
    {
     "name": "stderr",
     "output_type": "stream",
     "text": [
      "C:\\Users\\herju\\anaconda3\\lib\\site-packages\\sklearn\\utils\\validation.py:63: DataConversionWarning: A column-vector y was passed when a 1d array was expected. Please change the shape of y to (n_samples, ), for example using ravel().\n",
      "  return f(*args, **kwargs)\n"
     ]
    },
    {
     "name": "stdout",
     "output_type": "stream",
     "text": [
      "[CV] END ......................max_depth=5, n_estimators=200; total time=   0.1s\n",
      "[CV] END ......................max_depth=5, n_estimators=200; total time=   0.1s\n"
     ]
    },
    {
     "name": "stderr",
     "output_type": "stream",
     "text": [
      "C:\\Users\\herju\\anaconda3\\lib\\site-packages\\sklearn\\utils\\validation.py:63: DataConversionWarning: A column-vector y was passed when a 1d array was expected. Please change the shape of y to (n_samples, ), for example using ravel().\n",
      "  return f(*args, **kwargs)\n",
      "C:\\Users\\herju\\anaconda3\\lib\\site-packages\\sklearn\\utils\\validation.py:63: DataConversionWarning: A column-vector y was passed when a 1d array was expected. Please change the shape of y to (n_samples, ), for example using ravel().\n",
      "  return f(*args, **kwargs)\n"
     ]
    },
    {
     "name": "stdout",
     "output_type": "stream",
     "text": [
      "[CV] END ......................max_depth=5, n_estimators=300; total time=   0.2s\n"
     ]
    },
    {
     "name": "stderr",
     "output_type": "stream",
     "text": [
      "C:\\Users\\herju\\anaconda3\\lib\\site-packages\\sklearn\\utils\\validation.py:63: DataConversionWarning: A column-vector y was passed when a 1d array was expected. Please change the shape of y to (n_samples, ), for example using ravel().\n",
      "  return f(*args, **kwargs)\n"
     ]
    },
    {
     "name": "stdout",
     "output_type": "stream",
     "text": [
      "[CV] END ......................max_depth=5, n_estimators=300; total time=   0.2s\n"
     ]
    },
    {
     "name": "stderr",
     "output_type": "stream",
     "text": [
      "C:\\Users\\herju\\anaconda3\\lib\\site-packages\\sklearn\\utils\\validation.py:63: DataConversionWarning: A column-vector y was passed when a 1d array was expected. Please change the shape of y to (n_samples, ), for example using ravel().\n",
      "  return f(*args, **kwargs)\n"
     ]
    },
    {
     "name": "stdout",
     "output_type": "stream",
     "text": [
      "[CV] END ......................max_depth=5, n_estimators=300; total time=   0.2s\n"
     ]
    },
    {
     "name": "stderr",
     "output_type": "stream",
     "text": [
      "C:\\Users\\herju\\anaconda3\\lib\\site-packages\\sklearn\\utils\\validation.py:63: DataConversionWarning: A column-vector y was passed when a 1d array was expected. Please change the shape of y to (n_samples, ), for example using ravel().\n",
      "  return f(*args, **kwargs)\n"
     ]
    },
    {
     "name": "stdout",
     "output_type": "stream",
     "text": [
      "[CV] END ......................max_depth=5, n_estimators=300; total time=   0.2s\n"
     ]
    },
    {
     "name": "stderr",
     "output_type": "stream",
     "text": [
      "C:\\Users\\herju\\anaconda3\\lib\\site-packages\\sklearn\\utils\\validation.py:63: DataConversionWarning: A column-vector y was passed when a 1d array was expected. Please change the shape of y to (n_samples, ), for example using ravel().\n",
      "  return f(*args, **kwargs)\n"
     ]
    },
    {
     "name": "stdout",
     "output_type": "stream",
     "text": [
      "[CV] END ......................max_depth=5, n_estimators=300; total time=   0.2s\n",
      "[CV] END ......................max_depth=6, n_estimators=100; total time=   0.0s\n"
     ]
    },
    {
     "name": "stderr",
     "output_type": "stream",
     "text": [
      "C:\\Users\\herju\\anaconda3\\lib\\site-packages\\sklearn\\utils\\validation.py:63: DataConversionWarning: A column-vector y was passed when a 1d array was expected. Please change the shape of y to (n_samples, ), for example using ravel().\n",
      "  return f(*args, **kwargs)\n",
      "C:\\Users\\herju\\anaconda3\\lib\\site-packages\\sklearn\\utils\\validation.py:63: DataConversionWarning: A column-vector y was passed when a 1d array was expected. Please change the shape of y to (n_samples, ), for example using ravel().\n",
      "  return f(*args, **kwargs)\n"
     ]
    },
    {
     "name": "stdout",
     "output_type": "stream",
     "text": [
      "[CV] END ......................max_depth=6, n_estimators=100; total time=   0.0s\n",
      "[CV] END ......................max_depth=6, n_estimators=100; total time=   0.0s\n",
      "[CV] END ......................max_depth=6, n_estimators=100; total time=   0.0s\n"
     ]
    },
    {
     "name": "stderr",
     "output_type": "stream",
     "text": [
      "C:\\Users\\herju\\anaconda3\\lib\\site-packages\\sklearn\\utils\\validation.py:63: DataConversionWarning: A column-vector y was passed when a 1d array was expected. Please change the shape of y to (n_samples, ), for example using ravel().\n",
      "  return f(*args, **kwargs)\n",
      "C:\\Users\\herju\\anaconda3\\lib\\site-packages\\sklearn\\utils\\validation.py:63: DataConversionWarning: A column-vector y was passed when a 1d array was expected. Please change the shape of y to (n_samples, ), for example using ravel().\n",
      "  return f(*args, **kwargs)\n",
      "C:\\Users\\herju\\anaconda3\\lib\\site-packages\\sklearn\\utils\\validation.py:63: DataConversionWarning: A column-vector y was passed when a 1d array was expected. Please change the shape of y to (n_samples, ), for example using ravel().\n",
      "  return f(*args, **kwargs)\n",
      "C:\\Users\\herju\\anaconda3\\lib\\site-packages\\sklearn\\utils\\validation.py:63: DataConversionWarning: A column-vector y was passed when a 1d array was expected. Please change the shape of y to (n_samples, ), for example using ravel().\n",
      "  return f(*args, **kwargs)\n"
     ]
    },
    {
     "name": "stdout",
     "output_type": "stream",
     "text": [
      "[CV] END ......................max_depth=6, n_estimators=100; total time=   0.0s\n",
      "[CV] END ......................max_depth=6, n_estimators=200; total time=   0.1s\n"
     ]
    },
    {
     "name": "stderr",
     "output_type": "stream",
     "text": [
      "C:\\Users\\herju\\anaconda3\\lib\\site-packages\\sklearn\\utils\\validation.py:63: DataConversionWarning: A column-vector y was passed when a 1d array was expected. Please change the shape of y to (n_samples, ), for example using ravel().\n",
      "  return f(*args, **kwargs)\n"
     ]
    },
    {
     "name": "stdout",
     "output_type": "stream",
     "text": [
      "[CV] END ......................max_depth=6, n_estimators=200; total time=   0.1s\n"
     ]
    },
    {
     "name": "stderr",
     "output_type": "stream",
     "text": [
      "C:\\Users\\herju\\anaconda3\\lib\\site-packages\\sklearn\\utils\\validation.py:63: DataConversionWarning: A column-vector y was passed when a 1d array was expected. Please change the shape of y to (n_samples, ), for example using ravel().\n",
      "  return f(*args, **kwargs)\n"
     ]
    },
    {
     "name": "stdout",
     "output_type": "stream",
     "text": [
      "[CV] END ......................max_depth=6, n_estimators=200; total time=   0.1s\n"
     ]
    },
    {
     "name": "stderr",
     "output_type": "stream",
     "text": [
      "C:\\Users\\herju\\anaconda3\\lib\\site-packages\\sklearn\\utils\\validation.py:63: DataConversionWarning: A column-vector y was passed when a 1d array was expected. Please change the shape of y to (n_samples, ), for example using ravel().\n",
      "  return f(*args, **kwargs)\n"
     ]
    },
    {
     "name": "stdout",
     "output_type": "stream",
     "text": [
      "[CV] END ......................max_depth=6, n_estimators=200; total time=   0.1s\n"
     ]
    },
    {
     "name": "stderr",
     "output_type": "stream",
     "text": [
      "C:\\Users\\herju\\anaconda3\\lib\\site-packages\\sklearn\\utils\\validation.py:63: DataConversionWarning: A column-vector y was passed when a 1d array was expected. Please change the shape of y to (n_samples, ), for example using ravel().\n",
      "  return f(*args, **kwargs)\n"
     ]
    },
    {
     "name": "stdout",
     "output_type": "stream",
     "text": [
      "[CV] END ......................max_depth=6, n_estimators=200; total time=   0.1s\n"
     ]
    },
    {
     "name": "stderr",
     "output_type": "stream",
     "text": [
      "C:\\Users\\herju\\anaconda3\\lib\\site-packages\\sklearn\\utils\\validation.py:63: DataConversionWarning: A column-vector y was passed when a 1d array was expected. Please change the shape of y to (n_samples, ), for example using ravel().\n",
      "  return f(*args, **kwargs)\n"
     ]
    },
    {
     "name": "stdout",
     "output_type": "stream",
     "text": [
      "[CV] END ......................max_depth=6, n_estimators=300; total time=   0.3s\n"
     ]
    },
    {
     "name": "stderr",
     "output_type": "stream",
     "text": [
      "C:\\Users\\herju\\anaconda3\\lib\\site-packages\\sklearn\\utils\\validation.py:63: DataConversionWarning: A column-vector y was passed when a 1d array was expected. Please change the shape of y to (n_samples, ), for example using ravel().\n",
      "  return f(*args, **kwargs)\n"
     ]
    },
    {
     "name": "stdout",
     "output_type": "stream",
     "text": [
      "[CV] END ......................max_depth=6, n_estimators=300; total time=   0.3s\n"
     ]
    },
    {
     "name": "stderr",
     "output_type": "stream",
     "text": [
      "C:\\Users\\herju\\anaconda3\\lib\\site-packages\\sklearn\\utils\\validation.py:63: DataConversionWarning: A column-vector y was passed when a 1d array was expected. Please change the shape of y to (n_samples, ), for example using ravel().\n",
      "  return f(*args, **kwargs)\n"
     ]
    },
    {
     "name": "stdout",
     "output_type": "stream",
     "text": [
      "[CV] END ......................max_depth=6, n_estimators=300; total time=   0.3s\n"
     ]
    },
    {
     "name": "stderr",
     "output_type": "stream",
     "text": [
      "C:\\Users\\herju\\anaconda3\\lib\\site-packages\\sklearn\\utils\\validation.py:63: DataConversionWarning: A column-vector y was passed when a 1d array was expected. Please change the shape of y to (n_samples, ), for example using ravel().\n",
      "  return f(*args, **kwargs)\n"
     ]
    },
    {
     "name": "stdout",
     "output_type": "stream",
     "text": [
      "[CV] END ......................max_depth=6, n_estimators=300; total time=   0.2s\n"
     ]
    },
    {
     "name": "stderr",
     "output_type": "stream",
     "text": [
      "C:\\Users\\herju\\anaconda3\\lib\\site-packages\\sklearn\\utils\\validation.py:63: DataConversionWarning: A column-vector y was passed when a 1d array was expected. Please change the shape of y to (n_samples, ), for example using ravel().\n",
      "  return f(*args, **kwargs)\n"
     ]
    },
    {
     "name": "stdout",
     "output_type": "stream",
     "text": [
      "[CV] END ......................max_depth=6, n_estimators=300; total time=   0.2s\n",
      "{'max_depth': 3, 'n_estimators': 100}\n"
     ]
    },
    {
     "name": "stderr",
     "output_type": "stream",
     "text": [
      "C:\\Users\\herju\\anaconda3\\lib\\site-packages\\sklearn\\utils\\validation.py:63: DataConversionWarning: A column-vector y was passed when a 1d array was expected. Please change the shape of y to (n_samples, ), for example using ravel().\n",
      "  return f(*args, **kwargs)\n"
     ]
    }
   ],
   "source": [
    "# GBM parms\n",
    "param_grid = {\n",
    "    \"n_estimators\" : [100, 200, 300],\n",
    "    \"max_depth\" : [3, 4, 5, 6]\n",
    "}\n",
    "\n",
    "gcv = GridSearchCV(gbm, param_grid, scoring=\"neg_mean_squared_error\", verbose=2)\n",
    "gcv.fit(X_train, Y_train)\n",
    "print(gcv.best_params_)"
   ]
  },
  {
   "cell_type": "markdown",
   "id": "eedbac27",
   "metadata": {},
   "source": [
    "### 4. 테스트"
   ]
  },
  {
   "cell_type": "code",
   "execution_count": 264,
   "id": "de15e724",
   "metadata": {},
   "outputs": [],
   "source": [
    "# val 데이터의 종속 변수로 모델별 charhes 값 예측\n",
    "pred_test_knn = knn.predict(X_test)\n",
    "pred_test_gbm = gbm.predict(X_test)\n",
    "pred_test_rf = rf.predict(X_test)\n",
    "pred_test_xgb = xgb.predict(X_test)\n",
    "pred_test_lgbm = lgbm.predict(X_test)"
   ]
  },
  {
   "cell_type": "code",
   "execution_count": 265,
   "id": "27bd543b",
   "metadata": {},
   "outputs": [
    {
     "name": "stdout",
     "output_type": "stream",
     "text": [
      "1. KNN \t\t\t test=5611.3385\n",
      "2. GBM \t\t\t test=4741.3703\n",
      "3. RF \t\t\t test=4908.4040\n",
      "4. XGB \t\t\t test=5399.7437\n",
      "5. LGBM \t\t test=4979.2478\n"
     ]
    }
   ],
   "source": [
    "pred_test_knn = pred_test_knn.reshape(-1, 1)\n",
    "pred_test_gbm = pred_test_gbm.reshape(-1, 1)\n",
    "pred_test_rf = pred_test_rf.reshape(-1, 1)\n",
    "pred_test_xgb = pred_test_xgb.reshape(-1, 1)\n",
    "pred_test_lgbm = pred_test_lgbm.reshape(-1, 1)\n",
    "\n",
    "mse_test_knn = mean_squared_error(Y_test, pred_test_knn)\n",
    "mse_test_gbm = mean_squared_error(Y_test, pred_test_gbm)\n",
    "mse_test_rf = mean_squared_error(Y_test, pred_test_rf)\n",
    "mse_test_xgb = mean_squared_error(Y_test, pred_test_xgb)\n",
    "mse_test_lgbm = mean_squared_error(Y_test, pred_test_lgbm)\n",
    "\n",
    "print(\"1. KNN \\t\\t\\t test=%.4f\" % (np.sqrt(mse_test_knn)))\n",
    "print(\"2. GBM \\t\\t\\t test=%.4f\" % (np.sqrt(mse_test_gbm)))\n",
    "print(\"3. RF \\t\\t\\t test=%.4f\" % (np.sqrt(mse_test_rf)))\n",
    "print(\"4. XGB \\t\\t\\t test=%.4f\" % (np.sqrt(mse_test_xgb)))\n",
    "print(\"5. LGBM \\t\\t test=%.4f\" % (np.sqrt(mse_test_lgbm)))"
   ]
  },
  {
   "cell_type": "code",
   "execution_count": 266,
   "id": "7d135dd2",
   "metadata": {},
   "outputs": [
    {
     "data": {
      "image/png": "[encoded data removed]",
      "text/plain": [
       "<Figure size 1080x1080 with 5 Axes>"
      ]
     },
     "metadata": {
      "needs_background": "light"
     },
     "output_type": "display_data"
    }
   ],
   "source": [
    "fig = plt.figure(figsize=(15, 15))\n",
    "fig.subplots_adjust(hspace=0.35)\n",
    "\n",
    "# KNeighborsRegressor 모델의 오차 값 그래프\n",
    "fig.add_subplot(5, 1, 1)\n",
    "plt.plot(abs(pred_test_knn - Y_test), color = 'b')\n",
    "plt.xlabel(\"Sample\")\n",
    "plt.ylabel(\"Error\")\n",
    "plt.ylim([0, 50000])\n",
    "\n",
    "# GradientBoostingRegressor 모델의 오차 값 그래프\n",
    "fig.add_subplot(5, 1, 2)\n",
    "plt.plot(abs(pred_test_gbm - Y_test), color = 'r')\n",
    "plt.xlabel(\"Sample\")\n",
    "plt.ylabel(\"Error\")\n",
    "plt.ylim([0, 50000])\n",
    "\n",
    "# RandomForestRegressor 모델의 오차 값 그래프\n",
    "fig.add_subplot(5, 1, 3)\n",
    "plt.plot(abs(pred_test_rf - Y_test), color = 'g')\n",
    "plt.xlabel(\"Sample\")\n",
    "plt.ylabel(\"Error\")\n",
    "plt.ylim([0, 50000])\n",
    "\n",
    "# XGBRegressor 모델의 오차 값 그래프\n",
    "fig.add_subplot(5, 1, 4)\n",
    "plt.plot(abs(pred_test_xgb - Y_test), color = 'c')\n",
    "plt.xlabel(\"Sample\")\n",
    "plt.ylabel(\"Error\")\n",
    "plt.ylim([0, 50000])\n",
    "\n",
    "# LGBMRegressor 모델의 오차 값 그래프\n",
    "fig.add_subplot(5, 1, 5)\n",
    "plt.plot(abs(pred_test_lgbm- Y_test), color = 'm')\n",
    "plt.xlabel(\"Sample\")\n",
    "plt.ylabel(\"Error\")\n",
    "plt.ylim([0, 50000])\n",
    "\n",
    "plt.show()"
   ]
  },
  {
   "cell_type": "code",
   "execution_count": null,
   "id": "e79390ce",
   "metadata": {},
   "outputs": [],
   "source": []
  }
 ],
 "metadata": {
  "kernelspec": {
   "display_name": "Python 3 (ipykernel)",
   "language": "python",
   "name": "python3"
  },
  "language_info": {
   "codemirror_mode": {
    "name": "ipython",
    "version": 3
   },
   "file_extension": ".py",
   "mimetype": "text/x-python",
   "name": "python",
   "nbconvert_exporter": "python",
   "pygments_lexer": "ipython3",
   "version": "3.9.7"
  }
 },
 "nbformat": 4,
 "nbformat_minor": 5
}
