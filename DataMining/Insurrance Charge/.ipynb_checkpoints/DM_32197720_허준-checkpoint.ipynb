{
 "cells": [
  {
   "cell_type": "markdown",
   "id": "7a5b9292",
   "metadata": {},
   "source": [
    "# 보험료 예측"
   ]
  },
  {
   "cell_type": "markdown",
   "id": "7ed35fae",
   "metadata": {},
   "source": [
    "### 1. 데이터 전처리"
   ]
  },
  {
   "cell_type": "code",
   "execution_count": 83,
   "id": "233054ca",
   "metadata": {},
   "outputs": [],
   "source": [
    "import pandas as pd\n",
    "import numpy as np\n",
    "\n",
    "# 파일의 데이터를 전처리한 데이터프레임 리턴\n",
    "def CreateDataFrame(filename):\n",
    "    ''' 1. 데이터 프레임 생성 '''\n",
    "    df = pd.read_csv(filename)\n",
    "    \n",
    "    ''' 2. 문자열 수치화 '''\n",
    "    # male=0, female=1\n",
    "    df = df.dropna(subset = ['sex'])\n",
    "    df['sex'].replace(['male', 'female'], range(2), inplace=True)\n",
    "    df['sex'] = df['sex'].astype('int')\n",
    "    # smoker=1, non-smoker=0\n",
    "    df['smoker'].replace(['no', 'yes'], range(2), inplace=True)\n",
    "    # southwest=0, southeast=1, northwest=2, northeast=3\n",
    "    df['region'].replace(['southwest', 'southeast', 'northwest', 'northeast'], range(4), inplace=True)\n",
    "    \n",
    "    ''' 3. 결측치 처리 '''\n",
    "    # bmi\n",
    "    bmi_mean = df['bmi'].mean()\n",
    "    bmi_mean = round(bmi_mean, 0)\n",
    "    df['bmi'] = df['bmi'].fillna(bmi_mean)\n",
    "    # children\n",
    "    children_mean = df['children'].mean()\n",
    "    children_mean = round(children_mean, 0)\n",
    "    df['children'] = df['children'].fillna(children_mean)\n",
    "    df['children'] = df['children'].astype('int')\n",
    "    \n",
    "    return df\n",
    "\n",
    "df_train = CreateDataFrame(\"insurrance_train.csv\")\n",
    "df_test = CreateDataFrame(\"insurrance_test_label.csv\")"
   ]
  }
 ],
 "metadata": {
  "kernelspec": {
   "display_name": "Python 3 (ipykernel)",
   "language": "python",
   "name": "python3"
  },
  "language_info": {
   "codemirror_mode": {
    "name": "ipython",
    "version": 3
   },
   "file_extension": ".py",
   "mimetype": "text/x-python",
   "name": "python",
   "nbconvert_exporter": "python",
   "pygments_lexer": "ipython3",
   "version": "3.9.7"
  }
 },
 "nbformat": 4,
 "nbformat_minor": 5
}
