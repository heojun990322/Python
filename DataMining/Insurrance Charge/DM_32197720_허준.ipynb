{
 "cells": [
  {
   "cell_type": "markdown",
   "id": "439d8b76",
   "metadata": {},
   "source": [
    "# 보험료 예측"
   ]
  },
  {
   "cell_type": "markdown",
   "id": "a586eac6",
   "metadata": {},
   "source": [
    "### 데이터 전처리"
   ]
  },
  {
   "cell_type": "markdown",
   "id": "d7827096",
   "metadata": {},
   "source": [
    " 1. 데이터 프레임 만들기"
   ]
  },
  {
   "cell_type": "code",
   "execution_count": 45,
   "id": "314d0160",
   "metadata": {},
   "outputs": [],
   "source": [
    "import pandas as pd\n",
    "import numpy as np\n",
    "df = pd.read_csv(\"insurrance_train.csv\")"
   ]
  },
  {
   "cell_type": "markdown",
   "id": "e8ddbadf",
   "metadata": {},
   "source": [
    "2. 문자열 수치화"
   ]
  },
  {
   "cell_type": "code",
   "execution_count": 46,
   "id": "a3a013b7",
   "metadata": {},
   "outputs": [],
   "source": [
    "# male=0, female=1\n",
    "df = df.dropna(subset = ['sex'])\n",
    "df['sex'].replace(['male', 'female'], range(2), inplace=True)\n",
    "df['sex'] = df['sex'].astype('int')\n",
    "# smoker=1, non-smoker=0\n",
    "df['smoker'].replace(['no', 'yes'], range(2), inplace=True)\n",
    "# southwest=0, southeast=1, northwest=2, northeast=3\n",
    "df['region'].replace(['southwest', 'southeast', 'northwest', 'northeast'], range(4), inplace=True)"
   ]
  },
  {
   "cell_type": "markdown",
   "id": "12c2d735",
   "metadata": {},
   "source": [
    "3. 결측치 처리"
   ]
  },
  {
   "cell_type": "code",
   "execution_count": 70,
   "id": "2a38d5dc",
   "metadata": {},
   "outputs": [],
   "source": [
    "# bmi\n",
    "bmi_mean = df['bmi'].mean()\n",
    "bmi_mean = round(bmi_mean, 0)\n",
    "df['bmi'] = df['bmi'].fillna(bmi_mean)\n",
    "# children\n",
    "children_mean = df['children'].mean()\n",
    "children_mean = round(children_mean, 0)\n",
    "df['children'] = df['children'].fillna(children_mean)\n",
    "df['children'] = df['children'].astype('int')"
   ]
  }
 ],
 "metadata": {
  "kernelspec": {
   "display_name": "Python 3 (ipykernel)",
   "language": "python",
   "name": "python3"
  },
  "language_info": {
   "codemirror_mode": {
    "name": "ipython",
    "version": 3
   },
   "file_extension": ".py",
   "mimetype": "text/x-python",
   "name": "python",
   "nbconvert_exporter": "python",
   "pygments_lexer": "ipython3",
   "version": "3.9.7"
  }
 },
 "nbformat": 4,
 "nbformat_minor": 5
}
